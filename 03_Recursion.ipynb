{
 "cells": [
  {
   "cell_type": "markdown",
   "metadata": {},
   "source": [
    "# MSDS 432, Assignment 3 - Recursion"
   ]
  },
  {
   "cell_type": "markdown",
   "metadata": {},
   "source": [
    "#### Author: Brandon Moretz"
   ]
  },
  {
   "cell_type": "code",
   "execution_count": 1,
   "metadata": {},
   "outputs": [],
   "source": [
    "%matplotlib inline"
   ]
  },
  {
   "cell_type": "code",
   "execution_count": 2,
   "metadata": {},
   "outputs": [],
   "source": [
    "import numpy as np\n",
    "import pandas as pd\n",
    "import matplotlib.pyplot as plt\n",
    "from time import time\n",
    "import sys"
   ]
  },
  {
   "cell_type": "code",
   "execution_count": 3,
   "metadata": {},
   "outputs": [],
   "source": [
    "np.random.seed(323) # static seed so results are reproducible"
   ]
  },
  {
   "cell_type": "code",
   "execution_count": 4,
   "metadata": {},
   "outputs": [],
   "source": [
    "sys.setrecursionlimit(5000) # increase the default max recursion depth for benchmark results."
   ]
  },
  {
   "cell_type": "markdown",
   "metadata": {},
   "source": [
    "## Factoral Algorithms"
   ]
  },
  {
   "cell_type": "code",
   "execution_count": 5,
   "metadata": {},
   "outputs": [],
   "source": [
    "def factoral_recursive(n):\n",
    "    \"\"\"Recursive version of Factoral (n!)\"\"\"\n",
    "    if n == 1:\n",
    "        return 1\n",
    "    else:\n",
    "        return n * factoral_recursive(n-1)\n",
    "    \n",
    "def factoral_iterative(n):\n",
    "    \"\"\"Iterative version of Factoral (n!)\"\"\"\n",
    "    result = 1\n",
    "    for i in range(n, 1, -1):\n",
    "        result *= i\n",
    "    return result\n",
    "\n",
    "def profile(func):\n",
    "    \"\"\"Utility function to help profile the runtime of code blocks.\"\"\"\n",
    "    start_time = time()\n",
    "    func()\n",
    "    return time() - start_time"
   ]
  },
  {
   "cell_type": "markdown",
   "metadata": {},
   "source": [
    "## Benchmark"
   ]
  },
  {
   "cell_type": "code",
   "execution_count": 6,
   "metadata": {},
   "outputs": [],
   "source": [
    "# Create the output metrics DataFrame\n",
    "results = pd.DataFrame(columns = ['N', 'Factoral', 'Recursive', 'Iterative', 'Diff'])"
   ]
  },
  {
   "cell_type": "code",
   "execution_count": 7,
   "metadata": {},
   "outputs": [],
   "source": [
    "dataset = [int(np.random.uniform(2000, 3500)) for k in range(0, 10)] # increased the numeric range due to getting all zeros.\n",
    "dataset.sort() # order from largest to smallest for charting\n",
    "\n",
    "for index in range(len(dataset)): # iterate the dataset\n",
    "    n = dataset[index]\n",
    "    recursive_time = profile(lambda: factoral_recursive(n)) # profile recursive version\n",
    "    iterative_time = profile(lambda: factoral_iterative(n)) # profile iterative version\n",
    "    \n",
    "    fac_int = factoral_iterative(n)\n",
    "    fac_rec = factoral_recursive(n)\n",
    "    \n",
    "    assert fac_int == fac_rec # ensure the two version return the same result.\n",
    "    \n",
    "    results.loc[index] = [n, str(fac_int), recursive_time, iterative_time, recursive_time - iterative_time] # save it."
   ]
  },
  {
   "cell_type": "markdown",
   "metadata": {},
   "source": [
    "## Results"
   ]
  },
  {
   "cell_type": "code",
   "execution_count": 8,
   "metadata": {},
   "outputs": [
    {
     "data": {
      "text/html": [
       "<div>\n",
       "<style scoped>\n",
       "    .dataframe tbody tr th:only-of-type {\n",
       "        vertical-align: middle;\n",
       "    }\n",
       "\n",
       "    .dataframe tbody tr th {\n",
       "        vertical-align: top;\n",
       "    }\n",
       "\n",
       "    .dataframe thead th {\n",
       "        text-align: right;\n",
       "    }\n",
       "</style>\n",
       "<table border=\"1\" class=\"dataframe\">\n",
       "  <thead>\n",
       "    <tr style=\"text-align: right;\">\n",
       "      <th></th>\n",
       "      <th>N</th>\n",
       "      <th>Factoral</th>\n",
       "      <th>Recursive</th>\n",
       "      <th>Iterative</th>\n",
       "      <th>Diff</th>\n",
       "    </tr>\n",
       "  </thead>\n",
       "  <tbody>\n",
       "    <tr>\n",
       "      <th>0</th>\n",
       "      <td>2165</td>\n",
       "      <td>1217971911917252718968109433296170266083431434...</td>\n",
       "      <td>0.001004</td>\n",
       "      <td>0.000994</td>\n",
       "      <td>0.000009</td>\n",
       "    </tr>\n",
       "    <tr>\n",
       "      <th>1</th>\n",
       "      <td>2203</td>\n",
       "      <td>9567692329887596361031567707694096451554801004...</td>\n",
       "      <td>0.000995</td>\n",
       "      <td>0.001002</td>\n",
       "      <td>-0.000007</td>\n",
       "    </tr>\n",
       "    <tr>\n",
       "      <th>2</th>\n",
       "      <td>2868</td>\n",
       "      <td>8096766443837134633832197023508842954757414586...</td>\n",
       "      <td>0.002028</td>\n",
       "      <td>0.001007</td>\n",
       "      <td>0.001021</td>\n",
       "    </tr>\n",
       "    <tr>\n",
       "      <th>3</th>\n",
       "      <td>2966</td>\n",
       "      <td>3001756599027096008170361392950831864888678615...</td>\n",
       "      <td>0.001998</td>\n",
       "      <td>0.001000</td>\n",
       "      <td>0.000998</td>\n",
       "    </tr>\n",
       "    <tr>\n",
       "      <th>4</th>\n",
       "      <td>3313</td>\n",
       "      <td>6842425973416112300731944827818785181610199008...</td>\n",
       "      <td>0.001992</td>\n",
       "      <td>0.002000</td>\n",
       "      <td>-0.000009</td>\n",
       "    </tr>\n",
       "    <tr>\n",
       "      <th>5</th>\n",
       "      <td>3355</td>\n",
       "      <td>6344244510640784303976274784525880352705844621...</td>\n",
       "      <td>0.002000</td>\n",
       "      <td>0.002036</td>\n",
       "      <td>-0.000036</td>\n",
       "    </tr>\n",
       "    <tr>\n",
       "      <th>6</th>\n",
       "      <td>3441</td>\n",
       "      <td>3105196211733875608386227989790827670004632565...</td>\n",
       "      <td>0.002000</td>\n",
       "      <td>0.002065</td>\n",
       "      <td>-0.000066</td>\n",
       "    </tr>\n",
       "    <tr>\n",
       "      <th>7</th>\n",
       "      <td>3460</td>\n",
       "      <td>5164554695657782196771494005043899606815980566...</td>\n",
       "      <td>0.001991</td>\n",
       "      <td>0.001999</td>\n",
       "      <td>-0.000008</td>\n",
       "    </tr>\n",
       "    <tr>\n",
       "      <th>8</th>\n",
       "      <td>3463</td>\n",
       "      <td>2142959856530032656413871970119865752163155298...</td>\n",
       "      <td>0.015986</td>\n",
       "      <td>0.002000</td>\n",
       "      <td>0.013986</td>\n",
       "    </tr>\n",
       "    <tr>\n",
       "      <th>9</th>\n",
       "      <td>3498</td>\n",
       "      <td>1952499244255623668064661326659569007076495100...</td>\n",
       "      <td>0.002005</td>\n",
       "      <td>0.001991</td>\n",
       "      <td>0.000014</td>\n",
       "    </tr>\n",
       "  </tbody>\n",
       "</table>\n",
       "</div>"
      ],
      "text/plain": [
       "      N                                           Factoral  Recursive  \\\n",
       "0  2165  1217971911917252718968109433296170266083431434...   0.001004   \n",
       "1  2203  9567692329887596361031567707694096451554801004...   0.000995   \n",
       "2  2868  8096766443837134633832197023508842954757414586...   0.002028   \n",
       "3  2966  3001756599027096008170361392950831864888678615...   0.001998   \n",
       "4  3313  6842425973416112300731944827818785181610199008...   0.001992   \n",
       "5  3355  6344244510640784303976274784525880352705844621...   0.002000   \n",
       "6  3441  3105196211733875608386227989790827670004632565...   0.002000   \n",
       "7  3460  5164554695657782196771494005043899606815980566...   0.001991   \n",
       "8  3463  2142959856530032656413871970119865752163155298...   0.015986   \n",
       "9  3498  1952499244255623668064661326659569007076495100...   0.002005   \n",
       "\n",
       "   Iterative      Diff  \n",
       "0   0.000994  0.000009  \n",
       "1   0.001002 -0.000007  \n",
       "2   0.001007  0.001021  \n",
       "3   0.001000  0.000998  \n",
       "4   0.002000 -0.000009  \n",
       "5   0.002036 -0.000036  \n",
       "6   0.002065 -0.000066  \n",
       "7   0.001999 -0.000008  \n",
       "8   0.002000  0.013986  \n",
       "9   0.001991  0.000014  "
      ]
     },
     "execution_count": 8,
     "metadata": {},
     "output_type": "execute_result"
    }
   ],
   "source": [
    "results # display the results table / DataFrame"
   ]
  },
  {
   "cell_type": "markdown",
   "metadata": {},
   "source": [
    "## Summary"
   ]
  },
  {
   "cell_type": "code",
   "execution_count": 9,
   "metadata": {},
   "outputs": [
    {
     "data": {
      "image/png": "[encoded data removed]",
      "text/plain": [
       "<Figure size 432x288 with 1 Axes>"
      ]
     },
     "metadata": {
      "needs_background": "light"
     },
     "output_type": "display_data"
    }
   ],
   "source": [
    "# Chart the relevant metrics about the three algorithms in comparision.\n",
    "ax = results[['N', 'Recursive', 'Iterative']].plot.line(x='N', title='Factoral Compare')\n",
    "ax.set_xlabel('Factoral')\n",
    "ax.set_ylabel('Execution Time')\n",
    "plt.show()"
   ]
  }
 ],
 "metadata": {
  "kernelspec": {
   "display_name": "Python 3",
   "language": "python",
   "name": "python3"
  },
  "language_info": {
   "codemirror_mode": {
    "name": "ipython",
    "version": 3
   },
   "file_extension": ".py",
   "mimetype": "text/x-python",
   "name": "python",
   "nbconvert_exporter": "python",
   "pygments_lexer": "ipython3",
   "version": "3.7.1"
  }
 },
 "nbformat": 4,
 "nbformat_minor": 2
}
