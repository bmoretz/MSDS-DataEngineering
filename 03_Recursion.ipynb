{
 "cells": [
  {
   "cell_type": "markdown",
   "metadata": {},
   "source": [
    "# MSDS 432, Assignment 3 - Recursion"
   ]
  },
  {
   "cell_type": "markdown",
   "metadata": {},
   "source": [
    "#### Author: Brandon Moretz"
   ]
  },
  {
   "cell_type": "code",
   "execution_count": 1,
   "metadata": {},
   "outputs": [],
   "source": [
    "%matplotlib inline"
   ]
  },
  {
   "cell_type": "code",
   "execution_count": 2,
   "metadata": {},
   "outputs": [],
   "source": [
    "import numpy as np\n",
    "import pandas as pd\n",
    "import matplotlib.pyplot as plt\n",
    "from time import time"
   ]
  },
  {
   "cell_type": "code",
   "execution_count": 3,
   "metadata": {},
   "outputs": [],
   "source": [
    "np.random.seed(323) # static seed so results are reproducible"
   ]
  },
  {
   "cell_type": "markdown",
   "metadata": {},
   "source": [
    "## Factoral Algorithms"
   ]
  },
  {
   "cell_type": "code",
   "execution_count": 19,
   "metadata": {},
   "outputs": [],
   "source": [
    "def factoral_recursive(n):\n",
    "    \"\"\"Recursive version of Factoral (n!)\"\"\"\n",
    "    if n == 1:\n",
    "        return 1\n",
    "    else:\n",
    "        return n * factoral_recursive(n-1)\n",
    "    \n",
    "def factoral_iterative(n):\n",
    "    \"\"\"Iterative version of Factoral (n!)\"\"\"\n",
    "    result = 1\n",
    "    for i in range(n, 1, -1):\n",
    "        result *= i\n",
    "    return result\n",
    "\n",
    "def profile(func):\n",
    "    \"\"\"Utility function to help profile the runtime of code blocks.\"\"\"\n",
    "    start_time = time()\n",
    "    func()\n",
    "    return time() - start_time"
   ]
  },
  {
   "cell_type": "markdown",
   "metadata": {},
   "source": [
    "## Benchmark"
   ]
  },
  {
   "cell_type": "code",
   "execution_count": 18,
   "metadata": {},
   "outputs": [],
   "source": [
    "# Create the output metrics DataFrame\n",
    "results = pd.DataFrame(columns = ['Length', 'Recursive', 'Iterative'])"
   ]
  },
  {
   "cell_type": "code",
   "execution_count": 20,
   "metadata": {},
   "outputs": [],
   "source": [
    "dataset = [ int(np.random.uniform(2000, 2900)) for k in range(0, 10)] # increased the numeric range due to getting all zeros.\n",
    "dataset.sort() # order from largest to smallest for charting\n",
    "\n",
    "for index in range(len(dataset)): # iterate the dataset\n",
    "    n = dataset[index]\n",
    "    recursive_time = profile(lambda: factoral_recursive(n)) # profile recursive version\n",
    "    iterative_time = profile(lambda: factoral_iterative(n)) # profile iterative version\n",
    "    \n",
    "    assert factoral_recursive(n) == factoral_iterative(n) # ensure the two version return the same result.\n",
    "    \n",
    "    results.loc[index] = [n, recursive_time, iterative_time] # save it."
   ]
  },
  {
   "cell_type": "markdown",
   "metadata": {},
   "source": [
    "## Results"
   ]
  },
  {
   "cell_type": "code",
   "execution_count": 21,
   "metadata": {},
   "outputs": [
    {
     "data": {
      "text/html": [
       "<div>\n",
       "<style scoped>\n",
       "    .dataframe tbody tr th:only-of-type {\n",
       "        vertical-align: middle;\n",
       "    }\n",
       "\n",
       "    .dataframe tbody tr th {\n",
       "        vertical-align: top;\n",
       "    }\n",
       "\n",
       "    .dataframe thead th {\n",
       "        text-align: right;\n",
       "    }\n",
       "</style>\n",
       "<table border=\"1\" class=\"dataframe\">\n",
       "  <thead>\n",
       "    <tr style=\"text-align: right;\">\n",
       "      <th></th>\n",
       "      <th>Length</th>\n",
       "      <th>Recursive</th>\n",
       "      <th>Iterative</th>\n",
       "    </tr>\n",
       "  </thead>\n",
       "  <tbody>\n",
       "    <tr>\n",
       "      <th>0</th>\n",
       "      <td>2133.0</td>\n",
       "      <td>0.001032</td>\n",
       "      <td>0.000971</td>\n",
       "    </tr>\n",
       "    <tr>\n",
       "      <th>1</th>\n",
       "      <td>2240.0</td>\n",
       "      <td>0.001974</td>\n",
       "      <td>0.001029</td>\n",
       "    </tr>\n",
       "    <tr>\n",
       "      <th>2</th>\n",
       "      <td>2309.0</td>\n",
       "      <td>0.002000</td>\n",
       "      <td>0.001002</td>\n",
       "    </tr>\n",
       "    <tr>\n",
       "      <th>3</th>\n",
       "      <td>2392.0</td>\n",
       "      <td>0.000999</td>\n",
       "      <td>0.002000</td>\n",
       "    </tr>\n",
       "    <tr>\n",
       "      <th>4</th>\n",
       "      <td>2399.0</td>\n",
       "      <td>0.002000</td>\n",
       "      <td>0.000975</td>\n",
       "    </tr>\n",
       "    <tr>\n",
       "      <th>5</th>\n",
       "      <td>2447.0</td>\n",
       "      <td>0.000976</td>\n",
       "      <td>0.001027</td>\n",
       "    </tr>\n",
       "    <tr>\n",
       "      <th>6</th>\n",
       "      <td>2511.0</td>\n",
       "      <td>0.002000</td>\n",
       "      <td>0.001000</td>\n",
       "    </tr>\n",
       "    <tr>\n",
       "      <th>7</th>\n",
       "      <td>2625.0</td>\n",
       "      <td>0.002028</td>\n",
       "      <td>0.000970</td>\n",
       "    </tr>\n",
       "    <tr>\n",
       "      <th>8</th>\n",
       "      <td>2717.0</td>\n",
       "      <td>0.001978</td>\n",
       "      <td>0.002022</td>\n",
       "    </tr>\n",
       "    <tr>\n",
       "      <th>9</th>\n",
       "      <td>2747.0</td>\n",
       "      <td>0.002000</td>\n",
       "      <td>0.001000</td>\n",
       "    </tr>\n",
       "  </tbody>\n",
       "</table>\n",
       "</div>"
      ],
      "text/plain": [
       "   Length  Recursive  Iterative\n",
       "0  2133.0   0.001032   0.000971\n",
       "1  2240.0   0.001974   0.001029\n",
       "2  2309.0   0.002000   0.001002\n",
       "3  2392.0   0.000999   0.002000\n",
       "4  2399.0   0.002000   0.000975\n",
       "5  2447.0   0.000976   0.001027\n",
       "6  2511.0   0.002000   0.001000\n",
       "7  2625.0   0.002028   0.000970\n",
       "8  2717.0   0.001978   0.002022\n",
       "9  2747.0   0.002000   0.001000"
      ]
     },
     "execution_count": 21,
     "metadata": {},
     "output_type": "execute_result"
    }
   ],
   "source": [
    "results # display the results table / DataFrame"
   ]
  },
  {
   "cell_type": "markdown",
   "metadata": {},
   "source": [
    "## Summary"
   ]
  },
  {
   "cell_type": "code",
   "execution_count": 22,
   "metadata": {},
   "outputs": [
    {
     "data": {
      "image/png": "[encoded data removed]",
      "text/plain": [
       "<Figure size 432x288 with 1 Axes>"
      ]
     },
     "metadata": {
      "needs_background": "light"
     },
     "output_type": "display_data"
    }
   ],
   "source": [
    "# Chart the relevant metrics about the three algorithms in comparision.\n",
    "ax = results[['Length', 'Recursive', 'Iterative']].plot.line(x='Length', title='Sort Compare')\n",
    "ax.set_xlabel('Input Size')\n",
    "ax.set_ylabel('Execution Time')\n",
    "plt.show()"
   ]
  }
 ],
 "metadata": {
  "kernelspec": {
   "display_name": "Python 3",
   "language": "python",
   "name": "python3"
  },
  "language_info": {
   "codemirror_mode": {
    "name": "ipython",
    "version": 3
   },
   "file_extension": ".py",
   "mimetype": "text/x-python",
   "name": "python",
   "nbconvert_exporter": "python",
   "pygments_lexer": "ipython3",
   "version": "3.7.1"
  }
 },
 "nbformat": 4,
 "nbformat_minor": 2
}
