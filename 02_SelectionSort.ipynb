{
 "cells": [
  {
   "cell_type": "markdown",
   "metadata": {},
   "source": [
    "# MSDS 432, Assignment 2 - Selection Sort"
   ]
  },
  {
   "cell_type": "markdown",
   "metadata": {},
   "source": [
    "#### Author: Brandon Moretz"
   ]
  },
  {
   "cell_type": "code",
   "execution_count": 1,
   "metadata": {},
   "outputs": [],
   "source": [
    "%matplotlib inline"
   ]
  },
  {
   "cell_type": "code",
   "execution_count": 2,
   "metadata": {},
   "outputs": [],
   "source": [
    "import numpy as np\n",
    "import pandas as pd\n",
    "import matplotlib.pyplot as plt\n",
    "from time import time"
   ]
  },
  {
   "cell_type": "code",
   "execution_count": 3,
   "metadata": {},
   "outputs": [],
   "source": [
    "np.random.seed(323) # static seed so results are reproducible"
   ]
  },
  {
   "cell_type": "markdown",
   "metadata": {},
   "source": [
    "## Sort Algorithms"
   ]
  },
  {
   "cell_type": "code",
   "execution_count": 19,
   "metadata": {},
   "outputs": [],
   "source": [
    "def findSmallest(arr):\n",
    "    \"\"\"Finds the smallest element in an array by returning the corresponding index.\"\"\"\n",
    "    smallest = arr[0] # Stores the smallest value\n",
    "    smallest_index = 0 # Stores the smallest index\n",
    "    \n",
    "    for i in range(1, len(arr)):\n",
    "        if arr[i] < smallest:\n",
    "            smallest = arr[i]\n",
    "            smallest_index = i\n",
    "    return smallest_index\n",
    "\n",
    "def selectionSort(arr):\n",
    "    \"\"\"Selection Sort Algorithm, O(N**2)\"\"\"\n",
    "    newArr = []\n",
    "    for i in range(len(arr)):\n",
    "        smallest = findSmallest(arr)\n",
    "        newArr.append(arr.pop(smallest))\n",
    "    return newArr\n",
    "\n",
    "def insertionSort(arr):\n",
    "    \"\"\"Insertion Sort Algorithm, O(N**2)\"\"\"\n",
    "\n",
    "    for i in range(len(arr)):\n",
    "        j = i\n",
    "        while j > 0 and (arr[j] <arr[j-1]):\n",
    "            arr[j], arr[j-1] = arr[j-1], arr[j]\n",
    "            j = j - 1\n",
    "    return arr\n",
    "\n",
    "def profile(func):\n",
    "    \"\"\"Utility function to help profile the runtime of code blocks.\"\"\"\n",
    "    start_time = time()\n",
    "    func()\n",
    "    return time() - start_time"
   ]
  },
  {
   "cell_type": "markdown",
   "metadata": {},
   "source": [
    "## Benchmark"
   ]
  },
  {
   "cell_type": "code",
   "execution_count": 10,
   "metadata": {},
   "outputs": [],
   "source": [
    "# Create the output metrics DataFrame\n",
    "results = pd.DataFrame(columns = ['Length', 'Selection Sort', 'Insertion Sort', 'Tim Sort'])"
   ]
  },
  {
   "cell_type": "code",
   "execution_count": 54,
   "metadata": {
    "scrolled": true
   },
   "outputs": [],
   "source": [
    "increment = 5000\n",
    "\n",
    "for index in range(1, 6):\n",
    "    array_size = index * increment # calculate array size\n",
    "    \n",
    "    ds = list(np.random.uniform(0, 9, array_size)) # generate it\n",
    "    \n",
    "    ss_time = profile(lambda: selectionSort(ds[:])) # Selection Sort\n",
    "    is_time = profile(lambda: insertionSort(ds[:])) # Insertion Sort\n",
    "    ts_time = profile(lambda: ds[:].sort()) # Tim Sort (Python library)\n",
    "    \n",
    "    results.loc[index] = [array_size, ss_time, is_time, ts_time]"
   ]
  },
  {
   "cell_type": "markdown",
   "metadata": {},
   "source": [
    "## Results"
   ]
  },
  {
   "cell_type": "code",
   "execution_count": 55,
   "metadata": {},
   "outputs": [
    {
     "data": {
      "text/html": [
       "<div>\n",
       "<style scoped>\n",
       "    .dataframe tbody tr th:only-of-type {\n",
       "        vertical-align: middle;\n",
       "    }\n",
       "\n",
       "    .dataframe tbody tr th {\n",
       "        vertical-align: top;\n",
       "    }\n",
       "\n",
       "    .dataframe thead th {\n",
       "        text-align: right;\n",
       "    }\n",
       "</style>\n",
       "<table border=\"1\" class=\"dataframe\">\n",
       "  <thead>\n",
       "    <tr style=\"text-align: right;\">\n",
       "      <th></th>\n",
       "      <th>Length</th>\n",
       "      <th>Selection Sort</th>\n",
       "      <th>Insertion Sort</th>\n",
       "      <th>Tim Sort</th>\n",
       "    </tr>\n",
       "  </thead>\n",
       "  <tbody>\n",
       "    <tr>\n",
       "      <th>1</th>\n",
       "      <td>5000.0</td>\n",
       "      <td>0.527999</td>\n",
       "      <td>1.385972</td>\n",
       "      <td>0.001029</td>\n",
       "    </tr>\n",
       "    <tr>\n",
       "      <th>2</th>\n",
       "      <td>10000.0</td>\n",
       "      <td>2.122626</td>\n",
       "      <td>5.497332</td>\n",
       "      <td>0.002024</td>\n",
       "    </tr>\n",
       "    <tr>\n",
       "      <th>3</th>\n",
       "      <td>15000.0</td>\n",
       "      <td>4.766049</td>\n",
       "      <td>12.604141</td>\n",
       "      <td>0.003003</td>\n",
       "    </tr>\n",
       "    <tr>\n",
       "      <th>4</th>\n",
       "      <td>20000.0</td>\n",
       "      <td>8.541388</td>\n",
       "      <td>23.225201</td>\n",
       "      <td>0.005002</td>\n",
       "    </tr>\n",
       "    <tr>\n",
       "      <th>5</th>\n",
       "      <td>25000.0</td>\n",
       "      <td>13.521262</td>\n",
       "      <td>35.603499</td>\n",
       "      <td>0.006000</td>\n",
       "    </tr>\n",
       "  </tbody>\n",
       "</table>\n",
       "</div>"
      ],
      "text/plain": [
       "    Length  Selection Sort  Insertion Sort  Tim Sort\n",
       "1   5000.0        0.527999        1.385972  0.001029\n",
       "2  10000.0        2.122626        5.497332  0.002024\n",
       "3  15000.0        4.766049       12.604141  0.003003\n",
       "4  20000.0        8.541388       23.225201  0.005002\n",
       "5  25000.0       13.521262       35.603499  0.006000"
      ]
     },
     "execution_count": 55,
     "metadata": {},
     "output_type": "execute_result"
    }
   ],
   "source": [
    "results # display the results table / DataFrame"
   ]
  },
  {
   "cell_type": "markdown",
   "metadata": {},
   "source": [
    "## Summary"
   ]
  },
  {
   "cell_type": "markdown",
   "metadata": {},
   "source": [
    "The three sorting algorithms compared in this lab are insertion sort, selection sort and timsort, Python’s built-in sorting algorithm which is a hybrid derived from insertion sort and merge sort. The three algorithms perform drastically different run-time behavior in a simulation environment, even though two of the algorithms under study, insertion sort and selection sort, have the same asymptotic complexity (n²).\n",
    "\n",
    "Insertion sort works by examining each element in the array, and repeatedly attempts to swap it with the previous element if the ‘cursor’ element is smaller than the one it’s being compared to. The “Big-O” runtime analysis of this algorithms is n² due to the algorithm having to compare n elements against n elements; even though the actual number of comparisons could be reduced drastically if the input array was already sorted. We must assume the worst case for this analysis, and that leads us to O(n²).\n",
    "Selection sort is similar in approach to insertion sort in that its asymptotic complexity is n² due to each element being compared to every other element, however selection sort takes a different approach in how it achieves the sorting. Selection sort creates a new array, finds the location of the smallest element and then inserts that element into the new, sorted, array then removing that element from the original input.\n",
    "\n",
    "The sorting method that’s default in the Python language is noticeably faster under all conditions, and that’s due to the cleaver approach of how Python handles sorting. This method looks for naturally occurring ‘runs’ of already sorted elements in the list, and then uses a merge sort to merge the sorted runs into the final output. The run-time of Python’s default sort, timsort, is best case O(n) and worst-case O(n*log(n)).\n",
    "\n",
    "All these approaches to sorting are both valid and useful for any data engineer to know. For example, as mentioned with insertion sort, if the engineer is confident that the list will be close to fully sorted naturally before calling a sort routine, then one should prefer the insertion method over the selection method, as the run-time will be drastically faster. However, as we see extremely clear in this example, when there is an implementation of a common algorithm available in the base libraries of the language, it’s often best to defer to the out of the box implementations instead of rolling your own unless you have extremely clear requirements on why you should do so."
   ]
  },
  {
   "cell_type": "code",
   "execution_count": 56,
   "metadata": {},
   "outputs": [
    {
     "data": {
      "image/png": "[encoded data removed]",
      "text/plain": [
       "<Figure size 432x288 with 1 Axes>"
      ]
     },
     "metadata": {
      "needs_background": "light"
     },
     "output_type": "display_data"
    }
   ],
   "source": [
    "# Chart the relevant metrics about the three algorithms in comparision.\n",
    "ax = results[['Length', 'Selection Sort', 'Insertion Sort', 'Tim Sort']].plot.line(x='Length', title='Sort Compare')\n",
    "ax.set_xlabel('Input Size')\n",
    "ax.set_ylabel('Execution Time')\n",
    "plt.show()"
   ]
  }
 ],
 "metadata": {
  "kernelspec": {
   "display_name": "Python 3",
   "language": "python",
   "name": "python3"
  },
  "language_info": {
   "codemirror_mode": {
    "name": "ipython",
    "version": 3
   },
   "file_extension": ".py",
   "mimetype": "text/x-python",
   "name": "python",
   "nbconvert_exporter": "python",
   "pygments_lexer": "ipython3",
   "version": "3.7.1"
  }
 },
 "nbformat": 4,
 "nbformat_minor": 2
}
